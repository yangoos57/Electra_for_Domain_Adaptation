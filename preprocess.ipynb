{
 "cells": [
  {
   "cell_type": "code",
   "execution_count": 1,
   "metadata": {},
   "outputs": [],
   "source": [
    "import utils as keu\n",
    "import pandas as pd"
   ]
  },
  {
   "cell_type": "code",
   "execution_count": 2,
   "metadata": {},
   "outputs": [],
   "source": [
    "from transformers import ElectraTokenizer\n",
    "\n",
    "tokenizer = ElectraTokenizer.from_pretrained(\"monologg/koelectra-base-v3-generator\")"
   ]
  },
  {
   "cell_type": "code",
   "execution_count": 2,
   "metadata": {},
   "outputs": [
    {
     "data": {
      "text/html": [
       "<div>\n",
       "<style scoped>\n",
       "    .dataframe tbody tr th:only-of-type {\n",
       "        vertical-align: middle;\n",
       "    }\n",
       "\n",
       "    .dataframe tbody tr th {\n",
       "        vertical-align: top;\n",
       "    }\n",
       "\n",
       "    .dataframe thead th {\n",
       "        text-align: right;\n",
       "    }\n",
       "</style>\n",
       "<table border=\"1\" class=\"dataframe\">\n",
       "  <thead>\n",
       "    <tr style=\"text-align: right;\">\n",
       "      <th></th>\n",
       "      <th>book_title</th>\n",
       "      <th>book_toc</th>\n",
       "      <th>book_intro</th>\n",
       "      <th>publisher</th>\n",
       "    </tr>\n",
       "  </thead>\n",
       "  <tbody>\n",
       "    <tr>\n",
       "      <th>0</th>\n",
       "      <td>한 권으로 끝내는 메타버스 크리에이터</td>\n",
       "      <td>['메타버스란', '왜 메타버스인가', '메타버스의 유형을 알아보자', '메타버스 ...</td>\n",
       "      <td>[]</td>\n",
       "      <td>[]</td>\n",
       "    </tr>\n",
       "  </tbody>\n",
       "</table>\n",
       "</div>"
      ],
      "text/plain": [
       "             book_title                                           book_toc  \\\n",
       "0  한 권으로 끝내는 메타버스 크리에이터  ['메타버스란', '왜 메타버스인가', '메타버스의 유형을 알아보자', '메타버스 ...   \n",
       "\n",
       "  book_intro publisher  \n",
       "0         []        []  "
      ]
     },
     "execution_count": 2,
     "metadata": {},
     "output_type": "execute_result"
    }
   ],
   "source": [
    "raw_data = pd.read_csv('data/raw_book_info_list.csv',index_col=0)\n",
    "\n",
    "\n",
    "raw_data.head(1)"
   ]
  },
  {
   "cell_type": "markdown",
   "metadata": {},
   "source": [
    "### publisher"
   ]
  },
  {
   "cell_type": "code",
   "execution_count": 76,
   "metadata": {},
   "outputs": [
    {
     "name": "stdout",
     "output_type": "stream",
     "text": [
      "publisher column : 3749개 도서에서 75272개 문장 확보\n"
     ]
    }
   ],
   "source": [
    "import ast\n",
    "\n",
    "publisher = raw_data.publisher\n",
    "\n",
    "# publisher 전처리\n",
    "publisher_to_list = publisher.tolist()\n",
    "\n",
    "# str type의 list를 다시 list type으로 변환\n",
    "publisher_to_list = list(map(lambda x : ast.literal_eval(x),publisher_to_list))\n",
    "\n",
    "# 비어있는 list 제거\n",
    "publisher_to_list = [l for l in publisher_to_list if l ]\n",
    "\n",
    "book_len = len(publisher_to_list)\n",
    "\n",
    "\n",
    "publisher_to_list =  [list(filter(None,l)) for l in publisher_to_list if l ]\n",
    "\n",
    "publisher_to_list = [j for i in publisher_to_list for j in i]\n",
    "\n",
    "print(f'publisher column : {book_len}개 도서에서 {len(publisher_to_list)}개 문장 확보')"
   ]
  },
  {
   "cell_type": "code",
   "execution_count": 78,
   "metadata": {},
   "outputs": [
    {
     "data": {
      "text/plain": [
       "63727    1939\n",
       "39938    1467\n",
       "66165    1034\n",
       "3201     1003\n",
       "8060      957\n",
       "71202     913\n",
       "24328     881\n",
       "16703     867\n",
       "16585     860\n",
       "8253      773\n",
       "Name: 0, dtype: int64"
      ]
     },
     "execution_count": 78,
     "metadata": {},
     "output_type": "execute_result"
    }
   ],
   "source": [
    "df_publisher = pd.DataFrame(publisher_to_list)\n",
    "\n",
    "df_publisher[0].str.len().sort_values(ascending=False)[:10]"
   ]
  },
  {
   "cell_type": "markdown",
   "metadata": {},
   "source": [
    "### Tokenizing 개수 체크"
   ]
  },
  {
   "cell_type": "code",
   "execution_count": 79,
   "metadata": {},
   "outputs": [
    {
     "data": {
      "text/html": [
       "<div>\n",
       "<style scoped>\n",
       "    .dataframe tbody tr th:only-of-type {\n",
       "        vertical-align: middle;\n",
       "    }\n",
       "\n",
       "    .dataframe tbody tr th {\n",
       "        vertical-align: top;\n",
       "    }\n",
       "\n",
       "    .dataframe thead th {\n",
       "        text-align: right;\n",
       "    }\n",
       "</style>\n",
       "<table border=\"1\" class=\"dataframe\">\n",
       "  <thead>\n",
       "    <tr style=\"text-align: right;\">\n",
       "      <th></th>\n",
       "      <th>0</th>\n",
       "    </tr>\n",
       "  </thead>\n",
       "  <tbody>\n",
       "    <tr>\n",
       "      <th>63727</th>\n",
       "      <td>770</td>\n",
       "    </tr>\n",
       "    <tr>\n",
       "      <th>39938</th>\n",
       "      <td>581</td>\n",
       "    </tr>\n",
       "    <tr>\n",
       "      <th>66165</th>\n",
       "      <td>473</td>\n",
       "    </tr>\n",
       "    <tr>\n",
       "      <th>3201</th>\n",
       "      <td>451</td>\n",
       "    </tr>\n",
       "    <tr>\n",
       "      <th>8060</th>\n",
       "      <td>446</td>\n",
       "    </tr>\n",
       "  </tbody>\n",
       "</table>\n",
       "</div>"
      ],
      "text/plain": [
       "         0\n",
       "63727  770\n",
       "39938  581\n",
       "66165  473\n",
       "3201   451\n",
       "8060   446"
      ]
     },
     "execution_count": 79,
     "metadata": {},
     "output_type": "execute_result"
    }
   ],
   "source": [
    "tokens = tokenizer(df_publisher[0].tolist())\n",
    "tokens_num = [len(i) for i in tokens['input_ids']]\n",
    "df_token_num = pd.DataFrame(tokens_num)\n",
    "\n",
    "df_token_num = df_token_num.sort_values(by=0,ascending=False)\n",
    "\n",
    "df_token_num.head(5)"
   ]
  },
  {
   "cell_type": "markdown",
   "metadata": {},
   "source": [
    "### Publisher 저장"
   ]
  },
  {
   "cell_type": "code",
   "execution_count": 82,
   "metadata": {},
   "outputs": [],
   "source": [
    "# Tokenizer 256개 이하 추가 \n",
    "BM = df_token_num[df_token_num[0] <= 256].index\n",
    "\n",
    "df_publisher_sorted = df_publisher[df_publisher.index.isin(BM)]\n",
    "\n",
    "df_publisher_sorted = df_publisher_sorted.reset_index(drop=True)\n",
    "\n",
    "\n",
    "## Eng to han\n",
    "englist = pd.read_csv(\"preprocess/englist.csv\")\n",
    "\n",
    "lst = []\n",
    "for i in df_publisher_sorted[0].tolist() :\n",
    "    val = keu.trans_eng_to_han(words=i,englist=englist)\n",
    "\n",
    "    lst.append(' '.join(val))\n",
    "\n",
    "\n",
    "df_publisher_sorted = pd.DataFrame(lst)\n",
    "\n",
    "# len 5개 이상만 포함\n",
    "df_publisher_sorted = df_publisher_sorted[df_publisher_sorted[0].str.len() > 5]\n",
    "\n",
    "df_publisher_sorted.to_csv('data/pre_book_publisher.csv')\n",
    "\n"
   ]
  },
  {
   "cell_type": "markdown",
   "metadata": {},
   "source": [
    "### book_intro"
   ]
  },
  {
   "cell_type": "code",
   "execution_count": 4,
   "metadata": {},
   "outputs": [
    {
     "name": "stdout",
     "output_type": "stream",
     "text": [
      "book_intro column : 2828개 도서에서 24039개 문장 확보\n"
     ]
    }
   ],
   "source": [
    "book_intro = raw_data.book_intro\n",
    "\n",
    "# publisher 전처리\n",
    "book_intro_to_list = book_intro.tolist()\n",
    "\n",
    "# str type의 list를 다시 list type으로 변환\n",
    "book_intro_to_list = list(map(lambda x : ast.literal_eval(x),book_intro_to_list))\n",
    "\n",
    "# 비어있는 list 제거\n",
    "book_intro_to_list = [l for l in book_intro_to_list if l ]\n",
    "\n",
    "book_len = len(book_intro_to_list)\n",
    "\n",
    "book_intro_to_list =  [list(filter(None,l)) for l in book_intro_to_list if l ]\n",
    "\n",
    "book_intro_to_list = [j for i in book_intro_to_list for j in i]\n",
    "\n",
    "print(f'book_intro column : {book_len}개 도서에서 {len(book_intro_to_list)}개 문장 확보')"
   ]
  },
  {
   "cell_type": "markdown",
   "metadata": {},
   "source": [
    "### Tokenizing 개수 체크"
   ]
  },
  {
   "cell_type": "code",
   "execution_count": 52,
   "metadata": {},
   "outputs": [
    {
     "data": {
      "text/html": [
       "<div>\n",
       "<style scoped>\n",
       "    .dataframe tbody tr th:only-of-type {\n",
       "        vertical-align: middle;\n",
       "    }\n",
       "\n",
       "    .dataframe tbody tr th {\n",
       "        vertical-align: top;\n",
       "    }\n",
       "\n",
       "    .dataframe thead th {\n",
       "        text-align: right;\n",
       "    }\n",
       "</style>\n",
       "<table border=\"1\" class=\"dataframe\">\n",
       "  <thead>\n",
       "    <tr style=\"text-align: right;\">\n",
       "      <th></th>\n",
       "      <th>0</th>\n",
       "    </tr>\n",
       "  </thead>\n",
       "  <tbody>\n",
       "    <tr>\n",
       "      <th>20078</th>\n",
       "      <td>202</td>\n",
       "    </tr>\n",
       "    <tr>\n",
       "      <th>41</th>\n",
       "      <td>189</td>\n",
       "    </tr>\n",
       "    <tr>\n",
       "      <th>21169</th>\n",
       "      <td>153</td>\n",
       "    </tr>\n",
       "    <tr>\n",
       "      <th>21168</th>\n",
       "      <td>150</td>\n",
       "    </tr>\n",
       "    <tr>\n",
       "      <th>13393</th>\n",
       "      <td>146</td>\n",
       "    </tr>\n",
       "    <tr>\n",
       "      <th>...</th>\n",
       "      <td>...</td>\n",
       "    </tr>\n",
       "    <tr>\n",
       "      <th>11545</th>\n",
       "      <td>93</td>\n",
       "    </tr>\n",
       "    <tr>\n",
       "      <th>20180</th>\n",
       "      <td>93</td>\n",
       "    </tr>\n",
       "    <tr>\n",
       "      <th>9354</th>\n",
       "      <td>92</td>\n",
       "    </tr>\n",
       "    <tr>\n",
       "      <th>10851</th>\n",
       "      <td>92</td>\n",
       "    </tr>\n",
       "    <tr>\n",
       "      <th>4079</th>\n",
       "      <td>92</td>\n",
       "    </tr>\n",
       "  </tbody>\n",
       "</table>\n",
       "<p>100 rows × 1 columns</p>\n",
       "</div>"
      ],
      "text/plain": [
       "         0\n",
       "20078  202\n",
       "41     189\n",
       "21169  153\n",
       "21168  150\n",
       "13393  146\n",
       "...    ...\n",
       "11545   93\n",
       "20180   93\n",
       "9354    92\n",
       "10851   92\n",
       "4079    92\n",
       "\n",
       "[100 rows x 1 columns]"
      ]
     },
     "execution_count": 52,
     "metadata": {},
     "output_type": "execute_result"
    }
   ],
   "source": [
    "df_book_intro = pd.DataFrame(book_intro_to_list)\n",
    "\n",
    "tokens = tokenizer(df_book_intro[0].tolist())\n",
    "tokens_num = [len(i) for i in tokens['input_ids']]\n",
    "df_token_num = pd.DataFrame(tokens_num)\n",
    "\n",
    "df_token_num = df_token_num.sort_values(by=0,ascending=False)\n",
    "\n",
    "df_token_num.head(10)"
   ]
  },
  {
   "cell_type": "markdown",
   "metadata": {},
   "source": [
    "### book_intro 저장"
   ]
  },
  {
   "cell_type": "code",
   "execution_count": 84,
   "metadata": {},
   "outputs": [],
   "source": [
    "## Eng to han\n",
    "englist = pd.read_csv(\"preprocess/englist.csv\")\n",
    "\n",
    "lst = []\n",
    "for i in df_book_intro[0].tolist() :\n",
    "    val = keu.trans_eng_to_han(words=i,englist=englist)\n",
    "\n",
    "    lst.append(' '.join(val))\n",
    "\n",
    "\n",
    "df_book_intro = pd.DataFrame(lst)\n",
    "\n",
    "# len 5개 이상만 포함\n",
    "df_book_intro = df_book_intro[df_book_intro[0].str.len() > 5]\n",
    "\n",
    "df_book_intro.to_csv('data/pre_book_intro.csv')"
   ]
  },
  {
   "attachments": {},
   "cell_type": "markdown",
   "metadata": {},
   "source": [
    "### book_Toc"
   ]
  },
  {
   "cell_type": "code",
   "execution_count": 5,
   "metadata": {},
   "outputs": [
    {
     "name": "stdout",
     "output_type": "stream",
     "text": [
      "book_toc column : 5043개 도서에서 495055개 문장 확보\n"
     ]
    }
   ],
   "source": [
    "book_toc = raw_data.book_toc\n",
    "\n",
    "# publisher 전처리\n",
    "book_toc_to_list = book_toc.tolist()\n",
    "\n",
    "# str type의 list를 다시 list type으로 변환\n",
    "book_toc_to_list = list(map(lambda x : ast.literal_eval(x),book_toc_to_list))\n",
    "\n",
    "# 비어있는 list 제거\n",
    "book_toc_to_list = [l for l in book_toc_to_list if l ]\n",
    "\n",
    "book_len = len(book_toc_to_list)\n",
    "\n",
    "book_toc_to_list =  [list(filter(None,l)) for l in book_toc_to_list if l ]\n",
    "\n",
    "book_toc_to_list = [j for i in book_toc_to_list for j in i]\n",
    "book_toc_to_list = [i for i in book_toc_to_list if len(i) > 5]\n",
    "\n",
    "print(f'book_toc column : {book_len}개 도서에서 {len(book_toc_to_list)}개 문장 확보')"
   ]
  },
  {
   "cell_type": "markdown",
   "metadata": {},
   "source": [
    "### book_toc 저장"
   ]
  },
  {
   "cell_type": "code",
   "execution_count": 85,
   "metadata": {},
   "outputs": [
    {
     "name": "stdout",
     "output_type": "stream",
     "text": [
      "TOP 10 제거\n",
      "451237    19948\n",
      "57337     18113\n",
      "281331    16584\n",
      "63107     14962\n",
      "434685      800\n",
      "434678      630\n",
      "434693      563\n",
      "434695      535\n",
      "434675      513\n",
      "434687      475\n",
      "Name: 0, dtype: int64\n"
     ]
    }
   ],
   "source": [
    "df_toc = pd.DataFrame(book_toc_to_list)\n",
    "\n",
    "## Eng to han\n",
    "englist = pd.read_csv(\"preprocess/englist.csv\")\n",
    "\n",
    "lst = []\n",
    "for i in df_toc[0].tolist() :\n",
    "    val = keu.trans_eng_to_han(words=i,englist=englist)\n",
    "\n",
    "    lst.append(' '.join(val))\n",
    "\n",
    "\n",
    "df_toc = pd.DataFrame(lst)\n",
    "\n",
    "# len 5개 이상만 포함\n",
    "df_toc = df_toc[df_toc[0].str.len() > 5]\n",
    "\n",
    "# 문장 len\n",
    "BM = df_toc[0].str.len().sort_values(ascending=False)\n",
    "print('TOP 10 제거')\n",
    "print(BM[:10])\n",
    "df_toc[df_toc.index.isin(BM[11:].index)].to_csv('data/pre_book_toc.csv')"
   ]
  },
  {
   "cell_type": "markdown",
   "metadata": {},
   "source": [
    "### Reply"
   ]
  },
  {
   "cell_type": "code",
   "execution_count": 5,
   "metadata": {},
   "outputs": [
    {
     "name": "stdout",
     "output_type": "stream",
     "text": [
      "book_reply column : 3549개 도서에서 102367개 문장 확보\n"
     ]
    }
   ],
   "source": [
    "# raw_reply = pd.read_csv('data/book_reply.csv',index_col=0)\n",
    "\n",
    "# raw_reply = raw_reply[raw_reply['2'].isna() == False]['2'].tolist()\n",
    "\n",
    "# # str type의 list를 다시 list type으로 변환\n",
    "# book_reply_to_list = list(map(lambda x : ast.literal_eval(x),raw_reply))\n",
    "\n",
    "# # 비어있는 list 제거\n",
    "# book_reply_to_list = [l for l in book_reply_to_list if l ]\n",
    "\n",
    "# book_len = len(book_reply_to_list)\n",
    "\n",
    "# # 리스트 하나로 통일_1\n",
    "# book_reply_to_list = [j for i in book_reply_to_list for j in i]\n",
    "\n",
    "# # 리스트 하나로 통일_2\n",
    "# book_reply_to_list = [j for i in book_reply_to_list for j in i]\n",
    "\n",
    "\n",
    "\n",
    "# sentence_length = len(book_reply_to_list)\n",
    "\n",
    "# print(f'book_reply column : {book_len}개 도서에서 {sentence_length}개 문장 확보')"
   ]
  },
  {
   "cell_type": "markdown",
   "metadata": {},
   "source": [
    "### Book_intro + book_publisher + book_reply 종합"
   ]
  },
  {
   "cell_type": "code",
   "execution_count": 3,
   "metadata": {},
   "outputs": [],
   "source": [
    "pre_book_intro = pd.read_csv('data/pre_book_intro.csv',index_col=0)\n",
    "pre_book_publisher = pd.read_csv('data/pre_book_publisher.csv',index_col=0)\n",
    "pre_book_reply = pd.read_csv('data/pre_book_reply.csv',index_col=0)"
   ]
  },
  {
   "cell_type": "markdown",
   "metadata": {},
   "source": [
    "### Pre_book_total"
   ]
  },
  {
   "cell_type": "code",
   "execution_count": 16,
   "metadata": {},
   "outputs": [
    {
     "data": {
      "text/html": [
       "<div>\n",
       "<style scoped>\n",
       "    .dataframe tbody tr th:only-of-type {\n",
       "        vertical-align: middle;\n",
       "    }\n",
       "\n",
       "    .dataframe tbody tr th {\n",
       "        vertical-align: top;\n",
       "    }\n",
       "\n",
       "    .dataframe thead th {\n",
       "        text-align: right;\n",
       "    }\n",
       "</style>\n",
       "<table border=\"1\" class=\"dataframe\">\n",
       "  <thead>\n",
       "    <tr style=\"text-align: right;\">\n",
       "      <th></th>\n",
       "      <th>0</th>\n",
       "    </tr>\n",
       "  </thead>\n",
       "  <tbody>\n",
       "    <tr>\n",
       "      <th>0</th>\n",
       "      <td>이 책은 Do it 점프 투 파이썬 의 박응용 저자가 그동안 수많은 독자에게 받았던...</td>\n",
       "    </tr>\n",
       "    <tr>\n",
       "      <th>1</th>\n",
       "      <td>파이썬의 가장 큰 장점은 여러 분야에 걸쳐 방대한 라이브러리가 이미 만들어져 있다는...</td>\n",
       "    </tr>\n",
       "    <tr>\n",
       "      <th>2</th>\n",
       "      <td>하지만 어떤 라이브러리가 있는지 모른다면 제대로 쓸 수 없다</td>\n",
       "    </tr>\n",
       "  </tbody>\n",
       "</table>\n",
       "</div>"
      ],
      "text/plain": [
       "                                                   0\n",
       "0  이 책은 Do it 점프 투 파이썬 의 박응용 저자가 그동안 수많은 독자에게 받았던...\n",
       "1  파이썬의 가장 큰 장점은 여러 분야에 걸쳐 방대한 라이브러리가 이미 만들어져 있다는...\n",
       "2                  하지만 어떤 라이브러리가 있는지 모른다면 제대로 쓸 수 없다"
      ]
     },
     "execution_count": 16,
     "metadata": {},
     "output_type": "execute_result"
    }
   ],
   "source": [
    "pre_book_total = pd.concat([pre_book_intro,pre_book_publisher,pre_book_reply])\n",
    "\n",
    "pre_book_total.head(3)"
   ]
  },
  {
   "cell_type": "markdown",
   "metadata": {},
   "source": [
    "### Token 개수 세기"
   ]
  },
  {
   "cell_type": "code",
   "execution_count": 5,
   "metadata": {},
   "outputs": [
    {
     "name": "stderr",
     "output_type": "stream",
     "text": [
      "Token indices sequence length is longer than the specified maximum sequence length for this model (815 > 512). Running this sequence through the model will result in indexing errors\n"
     ]
    }
   ],
   "source": [
    "token_num = tokenizer(pre_book_total['0'].tolist())"
   ]
  },
  {
   "cell_type": "code",
   "execution_count": 26,
   "metadata": {},
   "outputs": [],
   "source": [
    "token = [[i,len(i)] for i in token_num['input_ids']]"
   ]
  },
  {
   "cell_type": "code",
   "execution_count": null,
   "metadata": {},
   "outputs": [],
   "source": [
    "df_token = pd.DataFrame(token)\n",
    "\n",
    "df_token['sen'] = pre_book_total['0'].tolist()\n",
    "\n",
    "df_token.columns = ['token','num','sen']\n"
   ]
  },
  {
   "attachments": {},
   "cell_type": "markdown",
   "metadata": {},
   "source": [
    "### 3 < token <256 이하 필터링"
   ]
  },
  {
   "cell_type": "code",
   "execution_count": 54,
   "metadata": {},
   "outputs": [
    {
     "data": {
      "text/html": [
       "<div>\n",
       "<style scoped>\n",
       "    .dataframe tbody tr th:only-of-type {\n",
       "        vertical-align: middle;\n",
       "    }\n",
       "\n",
       "    .dataframe tbody tr th {\n",
       "        vertical-align: top;\n",
       "    }\n",
       "\n",
       "    .dataframe thead th {\n",
       "        text-align: right;\n",
       "    }\n",
       "</style>\n",
       "<table border=\"1\" class=\"dataframe\">\n",
       "  <thead>\n",
       "    <tr style=\"text-align: right;\">\n",
       "      <th></th>\n",
       "      <th>token</th>\n",
       "      <th>num</th>\n",
       "      <th>sen</th>\n",
       "    </tr>\n",
       "  </thead>\n",
       "  <tbody>\n",
       "    <tr>\n",
       "      <th>0</th>\n",
       "      <td>[2, 10698, 6537, 4073, 6248, 5277, 4704, 9770,...</td>\n",
       "      <td>251</td>\n",
       "      <td>책의 구성에 대해첫째 마당 스위프트와 만나기v 스위프트가 무엇인지 간략히 알아보자 ...</td>\n",
       "    </tr>\n",
       "    <tr>\n",
       "      <th>1</th>\n",
       "      <td>[2, 28, 14370, 4279, 4031, 9577, 8800, 9108, 2...</td>\n",
       "      <td>250</td>\n",
       "      <td>8 할당하기 Chapter 9 태그 라벨 계정 Chapter 10 목표 달성을 위한...</td>\n",
       "    </tr>\n",
       "    <tr>\n",
       "      <th>2</th>\n",
       "      <td>[2, 6663, 4234, 8075, 4073, 24612, 4319, 4219,...</td>\n",
       "      <td>249</td>\n",
       "      <td>시대의 흐름에 발맞추고 싶은 사람 구글 카드보드로 유투브의 도 영상만 보는 사람 새...</td>\n",
       "    </tr>\n",
       "  </tbody>\n",
       "</table>\n",
       "</div>"
      ],
      "text/plain": [
       "                                               token  num  \\\n",
       "0  [2, 10698, 6537, 4073, 6248, 5277, 4704, 9770,...  251   \n",
       "1  [2, 28, 14370, 4279, 4031, 9577, 8800, 9108, 2...  250   \n",
       "2  [2, 6663, 4234, 8075, 4073, 24612, 4319, 4219,...  249   \n",
       "\n",
       "                                                 sen  \n",
       "0  책의 구성에 대해첫째 마당 스위프트와 만나기v 스위프트가 무엇인지 간략히 알아보자 ...  \n",
       "1  8 할당하기 Chapter 9 태그 라벨 계정 Chapter 10 목표 달성을 위한...  \n",
       "2  시대의 흐름에 발맞추고 싶은 사람 구글 카드보드로 유투브의 도 영상만 보는 사람 새...  "
      ]
     },
     "execution_count": 54,
     "metadata": {},
     "output_type": "execute_result"
    }
   ],
   "source": [
    "df_token = df_token[(df_token.num < 256) & (df_token.num > 3) ].sort_values(by='num',ascending=False)\n",
    "\n",
    "df_token = df_token.reset_index(drop=True)\n",
    "\n",
    "df_token.head(3)"
   ]
  },
  {
   "cell_type": "markdown",
   "metadata": {},
   "source": [
    "### Token 개수 256개 이하만 넣기"
   ]
  },
  {
   "cell_type": "code",
   "execution_count": 52,
   "metadata": {},
   "outputs": [],
   "source": [
    "df_token.to_csv('data/pre_book_total_256.csv')"
   ]
  },
  {
   "cell_type": "markdown",
   "metadata": {},
   "source": [
    "### Token 개수 128개 이하만 넣기"
   ]
  },
  {
   "cell_type": "code",
   "execution_count": 53,
   "metadata": {},
   "outputs": [],
   "source": [
    "df_token[df_token['num'] <= 128].to_csv('data/pre_book_total_128.csv')"
   ]
  }
 ],
 "metadata": {
  "kernelspec": {
   "display_name": "Python 3",
   "language": "python",
   "name": "python3"
  },
  "language_info": {
   "codemirror_mode": {
    "name": "ipython",
    "version": 3
   },
   "file_extension": ".py",
   "mimetype": "text/x-python",
   "name": "python",
   "nbconvert_exporter": "python",
   "pygments_lexer": "ipython3",
   "version": "3.9.1"
  },
  "orig_nbformat": 4,
  "vscode": {
   "interpreter": {
    "hash": "b2097164ba635ebffc0e3795dc845ae25b57eedf0c1eb5773ded6aee9fc1b279"
   }
  }
 },
 "nbformat": 4,
 "nbformat_minor": 2
}
