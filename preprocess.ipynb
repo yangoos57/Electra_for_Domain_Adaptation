{
 "cells": [
  {
   "cell_type": "code",
   "execution_count": 1,
   "metadata": {},
   "outputs": [],
   "source": [
    "import utils as keu\n",
    "import pandas as pd"
   ]
  },
  {
   "cell_type": "code",
   "execution_count": 6,
   "metadata": {},
   "outputs": [
    {
     "data": {
      "text/html": [
       "<div>\n",
       "<style scoped>\n",
       "    .dataframe tbody tr th:only-of-type {\n",
       "        vertical-align: middle;\n",
       "    }\n",
       "\n",
       "    .dataframe tbody tr th {\n",
       "        vertical-align: top;\n",
       "    }\n",
       "\n",
       "    .dataframe thead th {\n",
       "        text-align: right;\n",
       "    }\n",
       "</style>\n",
       "<table border=\"1\" class=\"dataframe\">\n",
       "  <thead>\n",
       "    <tr style=\"text-align: right;\">\n",
       "      <th></th>\n",
       "      <th>book_title</th>\n",
       "      <th>book_toc</th>\n",
       "      <th>book_intro</th>\n",
       "      <th>publisher</th>\n",
       "    </tr>\n",
       "  </thead>\n",
       "  <tbody>\n",
       "    <tr>\n",
       "      <th>0</th>\n",
       "      <td>한 권으로 끝내는 메타버스 크리에이터</td>\n",
       "      <td>['메타버스란', '왜 메타버스인가', '메타버스의 유형을 알아보자', '메타버스 ...</td>\n",
       "      <td>[]</td>\n",
       "      <td>[]</td>\n",
       "    </tr>\n",
       "  </tbody>\n",
       "</table>\n",
       "</div>"
      ],
      "text/plain": [
       "             book_title                                           book_toc  \\\n",
       "0  한 권으로 끝내는 메타버스 크리에이터  ['메타버스란', '왜 메타버스인가', '메타버스의 유형을 알아보자', '메타버스 ...   \n",
       "\n",
       "  book_intro publisher  \n",
       "0         []        []  "
      ]
     },
     "execution_count": 6,
     "metadata": {},
     "output_type": "execute_result"
    }
   ],
   "source": [
    "raw_data = pd.read_csv('data/raw_book_info_list.csv',index_col=0)\n",
    "\n",
    "\n",
    "raw_data.head(1)"
   ]
  },
  {
   "cell_type": "markdown",
   "metadata": {},
   "source": [
    "### publisher"
   ]
  },
  {
   "cell_type": "code",
   "execution_count": 3,
   "metadata": {},
   "outputs": [
    {
     "name": "stdout",
     "output_type": "stream",
     "text": [
      "book_intro column : 3749개 도서에서 75272개 문장 확보\n"
     ]
    }
   ],
   "source": [
    "import ast\n",
    "\n",
    "publisher = raw_data.publisher\n",
    "\n",
    "# publisher 전처리\n",
    "publisher_to_list = publisher.tolist()\n",
    "\n",
    "# str type의 list를 다시 list type으로 변환\n",
    "publisher_to_list = list(map(lambda x : ast.literal_eval(x),publisher_to_list))\n",
    "\n",
    "# 비어있는 list 제거\n",
    "publisher_to_list = [l for l in publisher_to_list if l ]\n",
    "\n",
    "book_len = len(publisher_to_list)\n",
    "\n",
    "\n",
    "publisher_to_list =  [list(filter(None,l)) for l in publisher_to_list if l ]\n",
    "\n",
    "publisher_to_list = [j for i in publisher_to_list for j in i]\n",
    "\n",
    "print(f'book_intro column : {book_len}개 도서에서 {len(publisher_to_list)}개 문장 확보')"
   ]
  },
  {
   "cell_type": "markdown",
   "metadata": {},
   "source": [
    "### book_intro"
   ]
  },
  {
   "cell_type": "code",
   "execution_count": 4,
   "metadata": {},
   "outputs": [
    {
     "name": "stdout",
     "output_type": "stream",
     "text": [
      "book_intro column : 2828개 도서에서 24039개 문장 확보\n"
     ]
    }
   ],
   "source": [
    "book_intro = raw_data.book_intro\n",
    "\n",
    "# publisher 전처리\n",
    "book_intro_to_list = book_intro.tolist()\n",
    "\n",
    "# str type의 list를 다시 list type으로 변환\n",
    "book_intro_to_list = list(map(lambda x : ast.literal_eval(x),book_intro_to_list))\n",
    "\n",
    "# 비어있는 list 제거\n",
    "book_intro_to_list = [l for l in book_intro_to_list if l ]\n",
    "\n",
    "book_len = len(book_intro_to_list)\n",
    "\n",
    "book_intro_to_list =  [list(filter(None,l)) for l in book_intro_to_list if l ]\n",
    "\n",
    "book_intro_to_list = [j for i in book_intro_to_list for j in i]\n",
    "\n",
    "print(f'book_intro column : {book_len}개 도서에서 {len(book_intro_to_list)}개 문장 확보')"
   ]
  },
  {
   "attachments": {},
   "cell_type": "markdown",
   "metadata": {},
   "source": [
    "### book_Toc"
   ]
  },
  {
   "cell_type": "code",
   "execution_count": 15,
   "metadata": {},
   "outputs": [
    {
     "name": "stdout",
     "output_type": "stream",
     "text": [
      "book_toc column : 5043개 도서에서 495055개 문장 확보\n"
     ]
    }
   ],
   "source": [
    "book_toc = raw_data.book_toc\n",
    "\n",
    "# publisher 전처리\n",
    "book_toc_to_list = book_toc.tolist()\n",
    "\n",
    "# str type의 list를 다시 list type으로 변환\n",
    "book_toc_to_list = list(map(lambda x : ast.literal_eval(x),book_toc_to_list))\n",
    "\n",
    "# 비어있는 list 제거\n",
    "book_toc_to_list = [l for l in book_toc_to_list if l ]\n",
    "\n",
    "book_len = len(book_toc_to_list)\n",
    "\n",
    "book_toc_to_list =  [list(filter(None,l)) for l in book_toc_to_list if l ]\n",
    "\n",
    "book_toc_to_list = [j for i in book_toc_to_list for j in i]\n",
    "book_toc_to_list = [i for i in book_toc_to_list if len(i) > 5]\n",
    "\n",
    "print(f'book_toc column : {book_len}개 도서에서 {len(book_toc_to_list)}개 문장 확보')"
   ]
  },
  {
   "cell_type": "markdown",
   "metadata": {},
   "source": [
    "### Reply"
   ]
  },
  {
   "cell_type": "code",
   "execution_count": 5,
   "metadata": {},
   "outputs": [
    {
     "name": "stdout",
     "output_type": "stream",
     "text": [
      "book_reply column : 3549개 도서에서 102367개 문장 확보\n"
     ]
    }
   ],
   "source": [
    "raw_reply = pd.read_csv('data/book_reply.csv',index_col=0)\n",
    "\n",
    "raw_reply = raw_reply[raw_reply['2'].isna() == False]['2'].tolist()\n",
    "\n",
    "# str type의 list를 다시 list type으로 변환\n",
    "book_reply_to_list = list(map(lambda x : ast.literal_eval(x),raw_reply))\n",
    "\n",
    "# 비어있는 list 제거\n",
    "book_reply_to_list = [l for l in book_reply_to_list if l ]\n",
    "\n",
    "book_len = len(book_reply_to_list)\n",
    "\n",
    "# 리스트 하나로 통일_1\n",
    "book_reply_to_list = [j for i in book_reply_to_list for j in i]\n",
    "\n",
    "# 리스트 하나로 통일_2\n",
    "book_reply_to_list = [j for i in book_reply_to_list for j in i]\n",
    "\n",
    "\n",
    "\n",
    "sentence_length = len(book_reply_to_list)\n",
    "\n",
    "print(f'book_reply column : {book_len}개 도서에서 {sentence_length}개 문장 확보')"
   ]
  },
  {
   "cell_type": "markdown",
   "metadata": {},
   "source": [
    "### Eng To Han 전처리"
   ]
  },
  {
   "cell_type": "code",
   "execution_count": 4,
   "metadata": {},
   "outputs": [],
   "source": [
    "import utils as keu\n",
    "import pandas as pd\n",
    "\n",
    "total = pd.read_csv(\"data/raw_book_total.csv\",index_col=0)['0'].tolist()\n",
    "toc = pd.read_csv(\"data/raw_book_toc.csv\",index_col=0)['0'].tolist()\n",
    "englist = pd.read_csv(\"preprocess/englist.csv\")\n",
    "\n",
    "lst = []\n",
    "for i in total :\n",
    "    val = keu.trans_eng_to_han(words=i,englist=englist)\n",
    "\n",
    "    lst.append(' '.join(val))\n",
    "\n",
    "toc_lst = []\n",
    "for i in toc :\n",
    "    val = keu.trans_eng_to_han(words=i,englist=englist)\n",
    "    toc_lst.append(' '.join(val))\n"
   ]
  }
 ],
 "metadata": {
  "kernelspec": {
   "display_name": "Python 3",
   "language": "python",
   "name": "python3"
  },
  "language_info": {
   "codemirror_mode": {
    "name": "ipython",
    "version": 3
   },
   "file_extension": ".py",
   "mimetype": "text/x-python",
   "name": "python",
   "nbconvert_exporter": "python",
   "pygments_lexer": "ipython3",
   "version": "3.9.1"
  },
  "orig_nbformat": 4,
  "vscode": {
   "interpreter": {
    "hash": "b2097164ba635ebffc0e3795dc845ae25b57eedf0c1eb5773ded6aee9fc1b279"
   }
  }
 },
 "nbformat": 4,
 "nbformat_minor": 2
}
