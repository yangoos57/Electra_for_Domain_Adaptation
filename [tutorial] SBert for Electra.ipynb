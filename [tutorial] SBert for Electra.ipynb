{
 "cells": [
  {
   "cell_type": "code",
   "execution_count": null,
   "metadata": {},
   "outputs": [],
   "source": [
    "from sentence_transformers import SentenceTransformer\n",
    "from transformers import ElectraModel,BertModel\n",
    "import utils as keu # key_electra_utils.py 참고\n",
    "from konlpy.tag import Hannanum\n",
    "import pandas as pd\n",
    "import ast\n",
    "import re\n",
    "\n",
    "model_new = SentenceTransformer(model_name_or_path='model/disc_book',tokenizer_path='model/tokenizer/')\n",
    "model_old = SentenceTransformer(model_name_or_path='monologg/koelectra-base-v3-discriminator')"
   ]
  },
  {
   "cell_type": "code",
   "execution_count": 29,
   "metadata": {},
   "outputs": [
    {
     "data": {
      "text/html": [
       "<div>\n",
       "<style scoped>\n",
       "    .dataframe tbody tr th:only-of-type {\n",
       "        vertical-align: middle;\n",
       "    }\n",
       "\n",
       "    .dataframe tbody tr th {\n",
       "        vertical-align: top;\n",
       "    }\n",
       "\n",
       "    .dataframe thead th {\n",
       "        text-align: right;\n",
       "    }\n",
       "</style>\n",
       "<table border=\"1\" class=\"dataframe\">\n",
       "  <thead>\n",
       "    <tr style=\"text-align: right;\">\n",
       "      <th></th>\n",
       "      <th>book_title</th>\n",
       "      <th>book_toc</th>\n",
       "      <th>book_intro</th>\n",
       "      <th>publisher</th>\n",
       "    </tr>\n",
       "  </thead>\n",
       "  <tbody>\n",
       "    <tr>\n",
       "      <th>0</th>\n",
       "      <td>한 권으로 끝내는 메타버스 크리에이터</td>\n",
       "      <td>['메타버스란', '왜 메타버스인가', '메타버스의 유형을 알아보자', '메타버스 ...</td>\n",
       "      <td>[]</td>\n",
       "      <td>[]</td>\n",
       "    </tr>\n",
       "    <tr>\n",
       "      <th>1</th>\n",
       "      <td>Do it! 점프 투 파이썬: 라이브러리 예제 편</td>\n",
       "      <td>['', '텍스트 다루기', '문자열을 줄여 표시하려면 textwrap shorte...</td>\n",
       "      <td>['이 책은 Do it 점프 투 파이썬 의 박응용 저자가 그동안 수많은 독자에게 받...</td>\n",
       "      <td>['실무에서 자주 쓰는 파이썬 라이브러리는 다 있다 필수 파이썬 라이브러리 개 엄선...</td>\n",
       "    </tr>\n",
       "  </tbody>\n",
       "</table>\n",
       "</div>"
      ],
      "text/plain": [
       "                    book_title  \\\n",
       "0         한 권으로 끝내는 메타버스 크리에이터   \n",
       "1  Do it! 점프 투 파이썬: 라이브러리 예제 편   \n",
       "\n",
       "                                            book_toc  \\\n",
       "0  ['메타버스란', '왜 메타버스인가', '메타버스의 유형을 알아보자', '메타버스 ...   \n",
       "1  ['', '텍스트 다루기', '문자열을 줄여 표시하려면 textwrap shorte...   \n",
       "\n",
       "                                          book_intro  \\\n",
       "0                                                 []   \n",
       "1  ['이 책은 Do it 점프 투 파이썬 의 박응용 저자가 그동안 수많은 독자에게 받...   \n",
       "\n",
       "                                           publisher  \n",
       "0                                                 []  \n",
       "1  ['실무에서 자주 쓰는 파이썬 라이브러리는 다 있다 필수 파이썬 라이브러리 개 엄선...  "
      ]
     },
     "execution_count": 29,
     "metadata": {},
     "output_type": "execute_result"
    }
   ],
   "source": [
    "raw_data = pd.read_csv('data/raw/raw_book_info_list.csv',index_col=0)\n",
    "\n",
    "raw_data.head(2)"
   ]
  },
  {
   "attachments": {},
   "cell_type": "markdown",
   "metadata": {},
   "source": [
    "## [데이터 전처리] 단어 키워드 추출에 맞는 Input 데이터 생산"
   ]
  },
  {
   "cell_type": "markdown",
   "metadata": {},
   "source": [
    "### 1. 도서 정보를 하나의 string으로 넣기"
   ]
  },
  {
   "cell_type": "code",
   "execution_count": 30,
   "metadata": {},
   "outputs": [
    {
     "name": "stdout",
     "output_type": "stream",
     "text": [
      "변환한 도서정보 :  Do it! 점프 투 파이썬: 라이브러리 예제 편\n"
     ]
    }
   ],
   "source": [
    "# book_info :str =keu.merge_series_to_str(raw_data.iloc[2323])\n",
    "book_info :str =keu.merge_series_to_str(raw_data.iloc[1])"
   ]
  },
  {
   "attachments": {},
   "cell_type": "markdown",
   "metadata": {},
   "source": [
    "### 2. 일부 영단어를 한글로 변환하기"
   ]
  },
  {
   "cell_type": "code",
   "execution_count": 31,
   "metadata": {},
   "outputs": [],
   "source": [
    "englist = pd.read_csv('preprocess/englist.csv')\n",
    "book_info_trans = keu.trans_eng_to_han(book_info,englist=englist)"
   ]
  },
  {
   "attachments": {},
   "cell_type": "markdown",
   "metadata": {},
   "source": [
    "### 3. 문장 내 영단어 제거 및 영단어 모아두기"
   ]
  },
  {
   "cell_type": "code",
   "execution_count": 32,
   "metadata": {},
   "outputs": [],
   "source": [
    "book_info_han = keu.find_han(' '.join(book_info_trans))\n",
    "book_info_eng = keu.find_eng(' '.join(book_info_trans))"
   ]
  },
  {
   "attachments": {},
   "cell_type": "markdown",
   "metadata": {},
   "source": [
    "### Konlpy로 명사만 추출하기"
   ]
  },
  {
   "cell_type": "code",
   "execution_count": 33,
   "metadata": {},
   "outputs": [],
   "source": [
    "from konlpy.tag import Hannanum\n",
    "\n",
    "han = Hannanum()\n",
    "\n",
    "# str or list에 따른 tokenizing 방법\n",
    "if type(book_info_han) == list :\n",
    "    han_nouns = han.nouns(' '.join(book_info_trans))\n",
    "    \n",
    "else :\n",
    "    print('book_info type must be list.')"
   ]
  },
  {
   "cell_type": "markdown",
   "metadata": {},
   "source": [
    "### Sentence Transformer로 유사도 검색"
   ]
  },
  {
   "cell_type": "code",
   "execution_count": 39,
   "metadata": {},
   "outputs": [
    {
     "data": {
      "text/html": [
       "<div>\n",
       "<style scoped>\n",
       "    .dataframe tbody tr th:only-of-type {\n",
       "        vertical-align: middle;\n",
       "    }\n",
       "\n",
       "    .dataframe tbody tr th {\n",
       "        vertical-align: top;\n",
       "    }\n",
       "\n",
       "    .dataframe thead th {\n",
       "        text-align: right;\n",
       "    }\n",
       "</style>\n",
       "<table border=\"1\" class=\"dataframe\">\n",
       "  <thead>\n",
       "    <tr style=\"text-align: right;\">\n",
       "      <th></th>\n",
       "      <th>0</th>\n",
       "    </tr>\n",
       "  </thead>\n",
       "  <tbody>\n",
       "    <tr>\n",
       "      <th>공식</th>\n",
       "      <td>0.894798</td>\n",
       "    </tr>\n",
       "    <tr>\n",
       "      <th>병렬로</th>\n",
       "      <td>0.830597</td>\n",
       "    </tr>\n",
       "    <tr>\n",
       "      <th>파이썬으로</th>\n",
       "      <td>0.795139</td>\n",
       "    </tr>\n",
       "    <tr>\n",
       "      <th>비교하려면</th>\n",
       "      <td>0.790259</td>\n",
       "    </tr>\n",
       "    <tr>\n",
       "      <th>뽑으려면</th>\n",
       "      <td>0.786277</td>\n",
       "    </tr>\n",
       "    <tr>\n",
       "      <th>확인하려면</th>\n",
       "      <td>0.777321</td>\n",
       "    </tr>\n",
       "    <tr>\n",
       "      <th>바이너리</th>\n",
       "      <td>0.773035</td>\n",
       "    </tr>\n",
       "    <tr>\n",
       "      <th>테스트하려면</th>\n",
       "      <td>0.771322</td>\n",
       "    </tr>\n",
       "    <tr>\n",
       "      <th>읽으려면</th>\n",
       "      <td>0.770948</td>\n",
       "    </tr>\n",
       "    <tr>\n",
       "      <th>처리하려면</th>\n",
       "      <td>0.766809</td>\n",
       "    </tr>\n",
       "    <tr>\n",
       "      <th>라이브러리를</th>\n",
       "      <td>0.766370</td>\n",
       "    </tr>\n",
       "    <tr>\n",
       "      <th>실행하려면</th>\n",
       "      <td>0.763015</td>\n",
       "    </tr>\n",
       "    <tr>\n",
       "      <th>계산하려면</th>\n",
       "      <td>0.762927</td>\n",
       "    </tr>\n",
       "    <tr>\n",
       "      <th>저장하려면</th>\n",
       "      <td>0.759635</td>\n",
       "    </tr>\n",
       "    <tr>\n",
       "      <th>문자열을</th>\n",
       "      <td>0.752436</td>\n",
       "    </tr>\n",
       "    <tr>\n",
       "      <th>파이썬</th>\n",
       "      <td>0.749490</td>\n",
       "    </tr>\n",
       "    <tr>\n",
       "      <th>동시에</th>\n",
       "      <td>0.749313</td>\n",
       "    </tr>\n",
       "    <tr>\n",
       "      <th>예제를</th>\n",
       "      <td>0.746655</td>\n",
       "    </tr>\n",
       "    <tr>\n",
       "      <th>사용하려면</th>\n",
       "      <td>0.744852</td>\n",
       "    </tr>\n",
       "    <tr>\n",
       "      <th>스토리가</th>\n",
       "      <td>0.731404</td>\n",
       "    </tr>\n",
       "  </tbody>\n",
       "</table>\n",
       "</div>"
      ],
      "text/plain": [
       "               0\n",
       "공식      0.894798\n",
       "병렬로     0.830597\n",
       "파이썬으로   0.795139\n",
       "비교하려면   0.790259\n",
       "뽑으려면    0.786277\n",
       "확인하려면   0.777321\n",
       "바이너리    0.773035\n",
       "테스트하려면  0.771322\n",
       "읽으려면    0.770948\n",
       "처리하려면   0.766809\n",
       "라이브러리를  0.766370\n",
       "실행하려면   0.763015\n",
       "계산하려면   0.762927\n",
       "저장하려면   0.759635\n",
       "문자열을    0.752436\n",
       "파이썬     0.749490\n",
       "동시에     0.749313\n",
       "예제를     0.746655\n",
       "사용하려면   0.744852\n",
       "스토리가    0.731404"
      ]
     },
     "execution_count": 39,
     "metadata": {},
     "output_type": "execute_result"
    }
   ],
   "source": [
    "keu.key_extraction(book_info_han,model_old)"
   ]
  },
  {
   "cell_type": "code",
   "execution_count": 40,
   "metadata": {},
   "outputs": [
    {
     "data": {
      "text/html": [
       "<div>\n",
       "<style scoped>\n",
       "    .dataframe tbody tr th:only-of-type {\n",
       "        vertical-align: middle;\n",
       "    }\n",
       "\n",
       "    .dataframe tbody tr th {\n",
       "        vertical-align: top;\n",
       "    }\n",
       "\n",
       "    .dataframe thead th {\n",
       "        text-align: right;\n",
       "    }\n",
       "</style>\n",
       "<table border=\"1\" class=\"dataframe\">\n",
       "  <thead>\n",
       "    <tr style=\"text-align: right;\">\n",
       "      <th></th>\n",
       "      <th>0</th>\n",
       "    </tr>\n",
       "  </thead>\n",
       "  <tbody>\n",
       "    <tr>\n",
       "      <th>파이썬으로</th>\n",
       "      <td>0.875315</td>\n",
       "    </tr>\n",
       "    <tr>\n",
       "      <th>병렬로</th>\n",
       "      <td>0.871060</td>\n",
       "    </tr>\n",
       "    <tr>\n",
       "      <th>읽으려면</th>\n",
       "      <td>0.863726</td>\n",
       "    </tr>\n",
       "    <tr>\n",
       "      <th>예제를</th>\n",
       "      <td>0.862628</td>\n",
       "    </tr>\n",
       "    <tr>\n",
       "      <th>것이다</th>\n",
       "      <td>0.853048</td>\n",
       "    </tr>\n",
       "    <tr>\n",
       "      <th>동시에</th>\n",
       "      <td>0.849964</td>\n",
       "    </tr>\n",
       "    <tr>\n",
       "      <th>사용하려면</th>\n",
       "      <td>0.839003</td>\n",
       "    </tr>\n",
       "    <tr>\n",
       "      <th>실행하려면</th>\n",
       "      <td>0.837551</td>\n",
       "    </tr>\n",
       "    <tr>\n",
       "      <th>저장하려면</th>\n",
       "      <td>0.837106</td>\n",
       "    </tr>\n",
       "    <tr>\n",
       "      <th>확인하려면</th>\n",
       "      <td>0.833603</td>\n",
       "    </tr>\n",
       "    <tr>\n",
       "      <th>뽑으려면</th>\n",
       "      <td>0.831969</td>\n",
       "    </tr>\n",
       "    <tr>\n",
       "      <th>비교하려면</th>\n",
       "      <td>0.830474</td>\n",
       "    </tr>\n",
       "    <tr>\n",
       "      <th>계산하려면</th>\n",
       "      <td>0.829433</td>\n",
       "    </tr>\n",
       "    <tr>\n",
       "      <th>테스트하려면</th>\n",
       "      <td>0.828871</td>\n",
       "    </tr>\n",
       "    <tr>\n",
       "      <th>문자열을</th>\n",
       "      <td>0.827280</td>\n",
       "    </tr>\n",
       "    <tr>\n",
       "      <th>책은</th>\n",
       "      <td>0.826099</td>\n",
       "    </tr>\n",
       "    <tr>\n",
       "      <th>원하는</th>\n",
       "      <td>0.817875</td>\n",
       "    </tr>\n",
       "    <tr>\n",
       "      <th>처리하려면</th>\n",
       "      <td>0.817856</td>\n",
       "    </tr>\n",
       "    <tr>\n",
       "      <th>서버와</th>\n",
       "      <td>0.815758</td>\n",
       "    </tr>\n",
       "    <tr>\n",
       "      <th>바이너리</th>\n",
       "      <td>0.811766</td>\n",
       "    </tr>\n",
       "  </tbody>\n",
       "</table>\n",
       "</div>"
      ],
      "text/plain": [
       "               0\n",
       "파이썬으로   0.875315\n",
       "병렬로     0.871060\n",
       "읽으려면    0.863726\n",
       "예제를     0.862628\n",
       "것이다     0.853048\n",
       "동시에     0.849964\n",
       "사용하려면   0.839003\n",
       "실행하려면   0.837551\n",
       "저장하려면   0.837106\n",
       "확인하려면   0.833603\n",
       "뽑으려면    0.831969\n",
       "비교하려면   0.830474\n",
       "계산하려면   0.829433\n",
       "테스트하려면  0.828871\n",
       "문자열을    0.827280\n",
       "책은      0.826099\n",
       "원하는     0.817875\n",
       "처리하려면   0.817856\n",
       "서버와     0.815758\n",
       "바이너리    0.811766"
      ]
     },
     "execution_count": 40,
     "metadata": {},
     "output_type": "execute_result"
    }
   ],
   "source": [
    "keu.key_extraction(book_info_han,model_new,min_rank=20)"
   ]
  }
 ],
 "metadata": {
  "kernelspec": {
   "display_name": "Python 3",
   "language": "python",
   "name": "python3"
  },
  "language_info": {
   "codemirror_mode": {
    "name": "ipython",
    "version": 3
   },
   "file_extension": ".py",
   "mimetype": "text/x-python",
   "name": "python",
   "nbconvert_exporter": "python",
   "pygments_lexer": "ipython3",
   "version": "3.9.1 (default, Jun 13 2022, 17:35:03) \n[Clang 13.1.6 (clang-1316.0.21.2.5)]"
  },
  "orig_nbformat": 4,
  "vscode": {
   "interpreter": {
    "hash": "b2097164ba635ebffc0e3795dc845ae25b57eedf0c1eb5773ded6aee9fc1b279"
   }
  }
 },
 "nbformat": 4,
 "nbformat_minor": 2
}
