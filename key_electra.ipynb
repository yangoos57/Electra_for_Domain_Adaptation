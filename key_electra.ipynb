{
 "cells": [
  {
   "cell_type": "code",
   "execution_count": 7,
   "metadata": {},
   "outputs": [
    {
     "name": "stderr",
     "output_type": "stream",
     "text": [
      "No sentence-transformers model found with name /Users/yangwoolee/.cache/torch/sentence_transformers/monologg_koelectra-base-v3-discriminator. Creating a new one with MEAN pooling.\n",
      "Some weights of the model checkpoint at /Users/yangwoolee/.cache/torch/sentence_transformers/monologg_koelectra-base-v3-discriminator were not used when initializing ElectraModel: ['discriminator_predictions.dense_prediction.bias', 'discriminator_predictions.dense.bias', 'discriminator_predictions.dense.weight', 'discriminator_predictions.dense_prediction.weight']\n",
      "- This IS expected if you are initializing ElectraModel from the checkpoint of a model trained on another task or with another architecture (e.g. initializing a BertForSequenceClassification model from a BertForPreTraining model).\n",
      "- This IS NOT expected if you are initializing ElectraModel from the checkpoint of a model that you expect to be exactly identical (initializing a BertForSequenceClassification model from a BertForSequenceClassification model).\n"
     ]
    }
   ],
   "source": [
    "from sentence_transformers import SentenceTransformer\n",
    "import key_electra_utils as keu # key_electra_utils.py 참고\n",
    "from konlpy.tag import Hannanum\n",
    "import pandas as pd\n",
    "import ast\n",
    "import re\n",
    "\n",
    "model = SentenceTransformer('monologg/koelectra-base-v3-discriminator')"
   ]
  },
  {
   "cell_type": "code",
   "execution_count": 2,
   "metadata": {},
   "outputs": [
    {
     "data": {
      "text/html": [
       "<div>\n",
       "<style scoped>\n",
       "    .dataframe tbody tr th:only-of-type {\n",
       "        vertical-align: middle;\n",
       "    }\n",
       "\n",
       "    .dataframe tbody tr th {\n",
       "        vertical-align: top;\n",
       "    }\n",
       "\n",
       "    .dataframe thead th {\n",
       "        text-align: right;\n",
       "    }\n",
       "</style>\n",
       "<table border=\"1\" class=\"dataframe\">\n",
       "  <thead>\n",
       "    <tr style=\"text-align: right;\">\n",
       "      <th></th>\n",
       "      <th>book_title</th>\n",
       "      <th>book_toc</th>\n",
       "      <th>book_intro</th>\n",
       "      <th>publisher</th>\n",
       "    </tr>\n",
       "  </thead>\n",
       "  <tbody>\n",
       "    <tr>\n",
       "      <th>0</th>\n",
       "      <td>한 권으로 끝내는 메타버스 크리에이터</td>\n",
       "      <td>['메타버스란', '왜 메타버스인가', '메타버스의 유형을 알아보자', '메타버스 ...</td>\n",
       "      <td>[]</td>\n",
       "      <td>[]</td>\n",
       "    </tr>\n",
       "    <tr>\n",
       "      <th>1</th>\n",
       "      <td>Do it! 점프 투 파이썬: 라이브러리 예제 편</td>\n",
       "      <td>['', '텍스트 다루기', '문자열을 줄여 표시하려면 textwrap shorte...</td>\n",
       "      <td>['이 책은 Do it 점프 투 파이썬 의 박응용 저자가 그동안 수많은 독자에게 받...</td>\n",
       "      <td>['실무에서 자주 쓰는 파이썬 라이브러리는 다 있다 필수 파이썬 라이브러리 개 엄선...</td>\n",
       "    </tr>\n",
       "  </tbody>\n",
       "</table>\n",
       "</div>"
      ],
      "text/plain": [
       "                    book_title  \\\n",
       "0         한 권으로 끝내는 메타버스 크리에이터   \n",
       "1  Do it! 점프 투 파이썬: 라이브러리 예제 편   \n",
       "\n",
       "                                            book_toc  \\\n",
       "0  ['메타버스란', '왜 메타버스인가', '메타버스의 유형을 알아보자', '메타버스 ...   \n",
       "1  ['', '텍스트 다루기', '문자열을 줄여 표시하려면 textwrap shorte...   \n",
       "\n",
       "                                          book_intro  \\\n",
       "0                                                 []   \n",
       "1  ['이 책은 Do it 점프 투 파이썬 의 박응용 저자가 그동안 수많은 독자에게 받...   \n",
       "\n",
       "                                           publisher  \n",
       "0                                                 []  \n",
       "1  ['실무에서 자주 쓰는 파이썬 라이브러리는 다 있다 필수 파이썬 라이브러리 개 엄선...  "
      ]
     },
     "execution_count": 2,
     "metadata": {},
     "output_type": "execute_result"
    }
   ],
   "source": [
    "raw_data = pd.read_csv('data/raw_book_info_list.csv',index_col=0)\n",
    "\n",
    "raw_data.head(2)"
   ]
  },
  {
   "attachments": {},
   "cell_type": "markdown",
   "metadata": {},
   "source": [
    "## [데이터 전처리] 단어 키워드 추출에 맞는 Input 데이터 생산"
   ]
  },
  {
   "cell_type": "markdown",
   "metadata": {},
   "source": [
    "### 1. 도서 정보를 하나의 string으로 넣기"
   ]
  },
  {
   "cell_type": "code",
   "execution_count": 14,
   "metadata": {},
   "outputs": [
    {
     "name": "stdout",
     "output_type": "stream",
     "text": [
      "변환한 도서정보 :  언리얼 엔진 블루프린트 비주얼 스크립팅\n"
     ]
    }
   ],
   "source": [
    "book_info :str =keu.Merge_Series_to_str(raw_data.iloc[1234])"
   ]
  },
  {
   "attachments": {},
   "cell_type": "markdown",
   "metadata": {},
   "source": [
    "### 2. 일부 영단어를 한글로 변환하기"
   ]
  },
  {
   "cell_type": "code",
   "execution_count": 28,
   "metadata": {},
   "outputs": [],
   "source": [
    "book_info_trans = keu.trans_engwords_to_hanwords(book_info)"
   ]
  },
  {
   "attachments": {},
   "cell_type": "markdown",
   "metadata": {},
   "source": [
    "### 3. 문장 내 영단어 제거 및 영단어 모아두기"
   ]
  },
  {
   "cell_type": "code",
   "execution_count": 26,
   "metadata": {},
   "outputs": [],
   "source": [
    "book_info_han = keu.find_han_words(' '.join(book_info_trans))\n",
    "book_info_eng = keu.find_eng_words(' '.join(book_info_trans))"
   ]
  },
  {
   "attachments": {},
   "cell_type": "markdown",
   "metadata": {},
   "source": [
    "### Konlpy로 명사만 추출하기"
   ]
  },
  {
   "cell_type": "code",
   "execution_count": 30,
   "metadata": {},
   "outputs": [],
   "source": [
    "from konlpy.tag import Hannanum\n",
    "\n",
    "han = Hannanum()\n",
    "\n",
    "# str or list에 따른 tokenizing 방법\n",
    "if type(book_info_han) == list :\n",
    "    han_nouns = han.nouns(' '.join(book_info_trans))\n",
    "    \n",
    "else :\n",
    "    print('book_info type must be list.')"
   ]
  },
  {
   "cell_type": "markdown",
   "metadata": {},
   "source": [
    "### Sentence Transformer로 유사도 검색"
   ]
  },
  {
   "cell_type": "code",
   "execution_count": 31,
   "metadata": {},
   "outputs": [
    {
     "data": {
      "text/html": [
       "<div>\n",
       "<style scoped>\n",
       "    .dataframe tbody tr th:only-of-type {\n",
       "        vertical-align: middle;\n",
       "    }\n",
       "\n",
       "    .dataframe tbody tr th {\n",
       "        vertical-align: top;\n",
       "    }\n",
       "\n",
       "    .dataframe thead th {\n",
       "        text-align: right;\n",
       "    }\n",
       "</style>\n",
       "<table border=\"1\" class=\"dataframe\">\n",
       "  <thead>\n",
       "    <tr style=\"text-align: right;\">\n",
       "      <th></th>\n",
       "      <th>0</th>\n",
       "    </tr>\n",
       "  </thead>\n",
       "  <tbody>\n",
       "    <tr>\n",
       "      <th>퍼블리싱</th>\n",
       "      <td>0.843488</td>\n",
       "    </tr>\n",
       "    <tr>\n",
       "      <th>테이블</th>\n",
       "      <td>0.815502</td>\n",
       "    </tr>\n",
       "    <tr>\n",
       "      <th>상호작용</th>\n",
       "      <td>0.790587</td>\n",
       "    </tr>\n",
       "    <tr>\n",
       "      <th>블루프린트</th>\n",
       "      <td>0.784251</td>\n",
       "    </tr>\n",
       "    <tr>\n",
       "      <th>디버깅</th>\n",
       "      <td>0.773333</td>\n",
       "    </tr>\n",
       "    <tr>\n",
       "      <th>준비하기</th>\n",
       "      <td>0.762984</td>\n",
       "    </tr>\n",
       "    <tr>\n",
       "      <th>중요성</th>\n",
       "      <td>0.761851</td>\n",
       "    </tr>\n",
       "    <tr>\n",
       "      <th>컴포지션</th>\n",
       "      <td>0.758989</td>\n",
       "    </tr>\n",
       "    <tr>\n",
       "      <th>사용</th>\n",
       "      <td>0.756284</td>\n",
       "    </tr>\n",
       "    <tr>\n",
       "      <th>패배</th>\n",
       "      <td>0.755393</td>\n",
       "    </tr>\n",
       "    <tr>\n",
       "      <th>멀티플레</th>\n",
       "      <td>0.753438</td>\n",
       "    </tr>\n",
       "    <tr>\n",
       "      <th>수정</th>\n",
       "      <td>0.744800</td>\n",
       "    </tr>\n",
       "    <tr>\n",
       "      <th>프론트엔드</th>\n",
       "      <td>0.742637</td>\n",
       "    </tr>\n",
       "    <tr>\n",
       "      <th>입문자</th>\n",
       "      <td>0.741865</td>\n",
       "    </tr>\n",
       "    <tr>\n",
       "      <th>구조체</th>\n",
       "      <td>0.739811</td>\n",
       "    </tr>\n",
       "    <tr>\n",
       "      <th>로딩</th>\n",
       "      <td>0.733948</td>\n",
       "    </tr>\n",
       "    <tr>\n",
       "      <th>머티리얼</th>\n",
       "      <td>0.729146</td>\n",
       "    </tr>\n",
       "    <tr>\n",
       "      <th>패키징</th>\n",
       "      <td>0.728932</td>\n",
       "    </tr>\n",
       "    <tr>\n",
       "      <th>인벤토리</th>\n",
       "      <td>0.724955</td>\n",
       "    </tr>\n",
       "    <tr>\n",
       "      <th>사냥개</th>\n",
       "      <td>0.723606</td>\n",
       "    </tr>\n",
       "  </tbody>\n",
       "</table>\n",
       "</div>"
      ],
      "text/plain": [
       "              0\n",
       "퍼블리싱   0.843488\n",
       "테이블    0.815502\n",
       "상호작용   0.790587\n",
       "블루프린트  0.784251\n",
       "디버깅    0.773333\n",
       "준비하기   0.762984\n",
       "중요성    0.761851\n",
       "컴포지션   0.758989\n",
       "사용     0.756284\n",
       "패배     0.755393\n",
       "멀티플레   0.753438\n",
       "수정     0.744800\n",
       "프론트엔드  0.742637\n",
       "입문자    0.741865\n",
       "구조체    0.739811\n",
       "로딩     0.733948\n",
       "머티리얼   0.729146\n",
       "패키징    0.728932\n",
       "인벤토리   0.724955\n",
       "사냥개    0.723606"
      ]
     },
     "execution_count": 31,
     "metadata": {},
     "output_type": "execute_result"
    }
   ],
   "source": [
    "keu.key_extraction(han_nouns,model)"
   ]
  }
 ],
 "metadata": {
  "kernelspec": {
   "display_name": "Python 3",
   "language": "python",
   "name": "python3"
  },
  "language_info": {
   "codemirror_mode": {
    "name": "ipython",
    "version": 3
   },
   "file_extension": ".py",
   "mimetype": "text/x-python",
   "name": "python",
   "nbconvert_exporter": "python",
   "pygments_lexer": "ipython3",
   "version": "3.9.1"
  },
  "orig_nbformat": 4,
  "vscode": {
   "interpreter": {
    "hash": "b2097164ba635ebffc0e3795dc845ae25b57eedf0c1eb5773ded6aee9fc1b279"
   }
  }
 },
 "nbformat": 4,
 "nbformat_minor": 2
}
