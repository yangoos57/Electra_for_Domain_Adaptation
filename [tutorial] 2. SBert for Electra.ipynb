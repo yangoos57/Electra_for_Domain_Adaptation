{
 "cells": [
  {
   "cell_type": "code",
   "execution_count": 26,
   "metadata": {},
   "outputs": [
    {
     "name": "stderr",
     "output_type": "stream",
     "text": [
      "No sentence-transformers model found with name model/disc_book. Creating a new one with MEAN pooling.\n",
      "No sentence-transformers model found with name /Users/yangwoolee/.cache/torch/sentence_transformers/monologg_koelectra-base-v3-discriminator. Creating a new one with MEAN pooling.\n",
      "Some weights of the model checkpoint at /Users/yangwoolee/.cache/torch/sentence_transformers/monologg_koelectra-base-v3-discriminator were not used when initializing ElectraModel: ['discriminator_predictions.dense_prediction.bias', 'discriminator_predictions.dense_prediction.weight', 'discriminator_predictions.dense.weight', 'discriminator_predictions.dense.bias']\n",
      "- This IS expected if you are initializing ElectraModel from the checkpoint of a model trained on another task or with another architecture (e.g. initializing a BertForSequenceClassification model from a BertForPreTraining model).\n",
      "- This IS NOT expected if you are initializing ElectraModel from the checkpoint of a model that you expect to be exactly identical (initializing a BertForSequenceClassification model from a BertForSequenceClassification model).\n"
     ]
    }
   ],
   "source": [
    "from sentence_transformers import SentenceTransformer\n",
    "from transformers import ElectraModel\n",
    "import utils as keu # key_electra_utils.py 참고\n",
    "from konlpy.tag import Hannanum\n",
    "import pandas as pd\n",
    "import ast\n",
    "import re\n",
    "\n",
    "model_new = SentenceTransformer(model_name_or_path='model/disc_book',tokenizer_path='model/tokenizer/')\n",
    "model_old = SentenceTransformer(model_name_or_path='monologg/koelectra-base-v3-discriminator')"
   ]
  },
  {
   "cell_type": "code",
   "execution_count": 2,
   "metadata": {},
   "outputs": [
    {
     "data": {
      "text/html": [
       "<div>\n",
       "<style scoped>\n",
       "    .dataframe tbody tr th:only-of-type {\n",
       "        vertical-align: middle;\n",
       "    }\n",
       "\n",
       "    .dataframe tbody tr th {\n",
       "        vertical-align: top;\n",
       "    }\n",
       "\n",
       "    .dataframe thead th {\n",
       "        text-align: right;\n",
       "    }\n",
       "</style>\n",
       "<table border=\"1\" class=\"dataframe\">\n",
       "  <thead>\n",
       "    <tr style=\"text-align: right;\">\n",
       "      <th></th>\n",
       "      <th>book_title</th>\n",
       "      <th>book_toc</th>\n",
       "      <th>book_intro</th>\n",
       "      <th>publisher</th>\n",
       "    </tr>\n",
       "  </thead>\n",
       "  <tbody>\n",
       "    <tr>\n",
       "      <th>0</th>\n",
       "      <td>한 권으로 끝내는 메타버스 크리에이터</td>\n",
       "      <td>['메타버스란', '왜 메타버스인가', '메타버스의 유형을 알아보자', '메타버스 ...</td>\n",
       "      <td>[]</td>\n",
       "      <td>[]</td>\n",
       "    </tr>\n",
       "    <tr>\n",
       "      <th>1</th>\n",
       "      <td>Do it! 점프 투 파이썬: 라이브러리 예제 편</td>\n",
       "      <td>['', '텍스트 다루기', '문자열을 줄여 표시하려면 textwrap shorte...</td>\n",
       "      <td>['이 책은 Do it 점프 투 파이썬 의 박응용 저자가 그동안 수많은 독자에게 받...</td>\n",
       "      <td>['실무에서 자주 쓰는 파이썬 라이브러리는 다 있다 필수 파이썬 라이브러리 개 엄선...</td>\n",
       "    </tr>\n",
       "  </tbody>\n",
       "</table>\n",
       "</div>"
      ],
      "text/plain": [
       "                    book_title  \\\n",
       "0         한 권으로 끝내는 메타버스 크리에이터   \n",
       "1  Do it! 점프 투 파이썬: 라이브러리 예제 편   \n",
       "\n",
       "                                            book_toc  \\\n",
       "0  ['메타버스란', '왜 메타버스인가', '메타버스의 유형을 알아보자', '메타버스 ...   \n",
       "1  ['', '텍스트 다루기', '문자열을 줄여 표시하려면 textwrap shorte...   \n",
       "\n",
       "                                          book_intro  \\\n",
       "0                                                 []   \n",
       "1  ['이 책은 Do it 점프 투 파이썬 의 박응용 저자가 그동안 수많은 독자에게 받...   \n",
       "\n",
       "                                           publisher  \n",
       "0                                                 []  \n",
       "1  ['실무에서 자주 쓰는 파이썬 라이브러리는 다 있다 필수 파이썬 라이브러리 개 엄선...  "
      ]
     },
     "execution_count": 2,
     "metadata": {},
     "output_type": "execute_result"
    }
   ],
   "source": [
    "raw_data = pd.read_csv('data/raw/raw_book_info_list.csv',index_col=0)\n",
    "\n",
    "raw_data.head(2)"
   ]
  },
  {
   "attachments": {},
   "cell_type": "markdown",
   "metadata": {},
   "source": [
    "## [데이터 전처리] 단어 키워드 추출에 맞는 Input 데이터 생산"
   ]
  },
  {
   "cell_type": "markdown",
   "metadata": {},
   "source": [
    "### 1. 도서 정보를 하나의 string으로 넣기"
   ]
  },
  {
   "cell_type": "code",
   "execution_count": 75,
   "metadata": {},
   "outputs": [
    {
     "name": "stdout",
     "output_type": "stream",
     "text": [
      "변환한 도서정보 :  한 권으로 끝내는 딥러닝 텐서플로\n"
     ]
    }
   ],
   "source": [
    "book_info :str =keu.merge_series_to_str(raw_data.iloc[2323])"
   ]
  },
  {
   "attachments": {},
   "cell_type": "markdown",
   "metadata": {},
   "source": [
    "### 2. 일부 영단어를 한글로 변환하기"
   ]
  },
  {
   "cell_type": "code",
   "execution_count": 76,
   "metadata": {},
   "outputs": [],
   "source": [
    "englist = pd.read_csv('preprocess/englist.csv')\n",
    "book_info_trans = keu.trans_eng_to_han(book_info,englist=englist)"
   ]
  },
  {
   "attachments": {},
   "cell_type": "markdown",
   "metadata": {},
   "source": [
    "### 3. 문장 내 영단어 제거 및 영단어 모아두기"
   ]
  },
  {
   "cell_type": "code",
   "execution_count": 77,
   "metadata": {},
   "outputs": [],
   "source": [
    "book_info_han = keu.find_han(' '.join(book_info_trans))\n",
    "book_info_eng = keu.find_eng(' '.join(book_info_trans))"
   ]
  },
  {
   "attachments": {},
   "cell_type": "markdown",
   "metadata": {},
   "source": [
    "### Konlpy로 명사만 추출하기"
   ]
  },
  {
   "cell_type": "code",
   "execution_count": 78,
   "metadata": {},
   "outputs": [],
   "source": [
    "from konlpy.tag import Hannanum\n",
    "\n",
    "han = Hannanum()\n",
    "\n",
    "# str or list에 따른 tokenizing 방법\n",
    "if type(book_info_han) == list :\n",
    "    han_nouns = han.nouns(' '.join(book_info_trans))\n",
    "    \n",
    "else :\n",
    "    print('book_info type must be list.')"
   ]
  },
  {
   "cell_type": "markdown",
   "metadata": {},
   "source": [
    "### Sentence Transformer로 유사도 검색"
   ]
  },
  {
   "cell_type": "code",
   "execution_count": 79,
   "metadata": {},
   "outputs": [
    {
     "data": {
      "text/html": [
       "<div>\n",
       "<style scoped>\n",
       "    .dataframe tbody tr th:only-of-type {\n",
       "        vertical-align: middle;\n",
       "    }\n",
       "\n",
       "    .dataframe tbody tr th {\n",
       "        vertical-align: top;\n",
       "    }\n",
       "\n",
       "    .dataframe thead th {\n",
       "        text-align: right;\n",
       "    }\n",
       "</style>\n",
       "<table border=\"1\" class=\"dataframe\">\n",
       "  <thead>\n",
       "    <tr style=\"text-align: right;\">\n",
       "      <th></th>\n",
       "      <th>0</th>\n",
       "    </tr>\n",
       "  </thead>\n",
       "  <tbody>\n",
       "    <tr>\n",
       "      <th>딥</th>\n",
       "      <td>0.894649</td>\n",
       "    </tr>\n",
       "    <tr>\n",
       "      <th>하이퍼파라미터</th>\n",
       "      <td>0.785934</td>\n",
       "    </tr>\n",
       "    <tr>\n",
       "      <th>완전연결</th>\n",
       "      <td>0.777877</td>\n",
       "    </tr>\n",
       "    <tr>\n",
       "      <th>신경망</th>\n",
       "      <td>0.771819</td>\n",
       "    </tr>\n",
       "    <tr>\n",
       "      <th>딥러닝</th>\n",
       "      <td>0.765136</td>\n",
       "    </tr>\n",
       "    <tr>\n",
       "      <th>사용</th>\n",
       "      <td>0.761644</td>\n",
       "    </tr>\n",
       "    <tr>\n",
       "      <th>텐서플</th>\n",
       "      <td>0.758479</td>\n",
       "    </tr>\n",
       "    <tr>\n",
       "      <th>강화학습</th>\n",
       "      <td>0.752364</td>\n",
       "    </tr>\n",
       "    <tr>\n",
       "      <th>텐서플로</th>\n",
       "      <td>0.748740</td>\n",
       "    </tr>\n",
       "    <tr>\n",
       "      <th>아키텍처</th>\n",
       "      <td>0.727021</td>\n",
       "    </tr>\n",
       "    <tr>\n",
       "      <th>합성곱</th>\n",
       "      <td>0.716350</td>\n",
       "    </tr>\n",
       "    <tr>\n",
       "      <th>기초</th>\n",
       "      <td>0.682304</td>\n",
       "    </tr>\n",
       "    <tr>\n",
       "      <th>코드</th>\n",
       "      <td>0.654879</td>\n",
       "    </tr>\n",
       "    <tr>\n",
       "      <th>알고리즘</th>\n",
       "      <td>0.652849</td>\n",
       "    </tr>\n",
       "    <tr>\n",
       "      <th>것</th>\n",
       "      <td>0.648742</td>\n",
       "    </tr>\n",
       "    <tr>\n",
       "      <th>이론</th>\n",
       "      <td>0.632874</td>\n",
       "    </tr>\n",
       "    <tr>\n",
       "      <th>순환</th>\n",
       "      <td>0.631447</td>\n",
       "    </tr>\n",
       "    <tr>\n",
       "      <th>프로그래밍</th>\n",
       "      <td>0.618677</td>\n",
       "    </tr>\n",
       "    <tr>\n",
       "      <th>최적화</th>\n",
       "      <td>0.593948</td>\n",
       "    </tr>\n",
       "    <tr>\n",
       "      <th>지표</th>\n",
       "      <td>0.583490</td>\n",
       "    </tr>\n",
       "  </tbody>\n",
       "</table>\n",
       "</div>"
      ],
      "text/plain": [
       "                0\n",
       "딥        0.894649\n",
       "하이퍼파라미터  0.785934\n",
       "완전연결     0.777877\n",
       "신경망      0.771819\n",
       "딥러닝      0.765136\n",
       "사용       0.761644\n",
       "텐서플      0.758479\n",
       "강화학습     0.752364\n",
       "텐서플로     0.748740\n",
       "아키텍처     0.727021\n",
       "합성곱      0.716350\n",
       "기초       0.682304\n",
       "코드       0.654879\n",
       "알고리즘     0.652849\n",
       "것        0.648742\n",
       "이론       0.632874\n",
       "순환       0.631447\n",
       "프로그래밍    0.618677\n",
       "최적화      0.593948\n",
       "지표       0.583490"
      ]
     },
     "execution_count": 79,
     "metadata": {},
     "output_type": "execute_result"
    }
   ],
   "source": [
    "keu.key_extraction(han_nouns,model_old)"
   ]
  },
  {
   "cell_type": "code",
   "execution_count": 80,
   "metadata": {},
   "outputs": [
    {
     "data": {
      "text/html": [
       "<div>\n",
       "<style scoped>\n",
       "    .dataframe tbody tr th:only-of-type {\n",
       "        vertical-align: middle;\n",
       "    }\n",
       "\n",
       "    .dataframe tbody tr th {\n",
       "        vertical-align: top;\n",
       "    }\n",
       "\n",
       "    .dataframe thead th {\n",
       "        text-align: right;\n",
       "    }\n",
       "</style>\n",
       "<table border=\"1\" class=\"dataframe\">\n",
       "  <thead>\n",
       "    <tr style=\"text-align: right;\">\n",
       "      <th></th>\n",
       "      <th>0</th>\n",
       "    </tr>\n",
       "  </thead>\n",
       "  <tbody>\n",
       "    <tr>\n",
       "      <th>딥</th>\n",
       "      <td>0.887673</td>\n",
       "    </tr>\n",
       "    <tr>\n",
       "      <th>딥러닝</th>\n",
       "      <td>0.874081</td>\n",
       "    </tr>\n",
       "    <tr>\n",
       "      <th>사용</th>\n",
       "      <td>0.867020</td>\n",
       "    </tr>\n",
       "    <tr>\n",
       "      <th>텐서플</th>\n",
       "      <td>0.848507</td>\n",
       "    </tr>\n",
       "    <tr>\n",
       "      <th>하이퍼파라미터</th>\n",
       "      <td>0.839869</td>\n",
       "    </tr>\n",
       "    <tr>\n",
       "      <th>완전연결</th>\n",
       "      <td>0.814461</td>\n",
       "    </tr>\n",
       "    <tr>\n",
       "      <th>아키텍처</th>\n",
       "      <td>0.811337</td>\n",
       "    </tr>\n",
       "    <tr>\n",
       "      <th>텐서플로</th>\n",
       "      <td>0.787370</td>\n",
       "    </tr>\n",
       "    <tr>\n",
       "      <th>신경망</th>\n",
       "      <td>0.779551</td>\n",
       "    </tr>\n",
       "    <tr>\n",
       "      <th>강화학습</th>\n",
       "      <td>0.768536</td>\n",
       "    </tr>\n",
       "    <tr>\n",
       "      <th>최적화</th>\n",
       "      <td>0.722531</td>\n",
       "    </tr>\n",
       "    <tr>\n",
       "      <th>기초</th>\n",
       "      <td>0.717575</td>\n",
       "    </tr>\n",
       "    <tr>\n",
       "      <th>합성곱</th>\n",
       "      <td>0.715096</td>\n",
       "    </tr>\n",
       "    <tr>\n",
       "      <th>코드</th>\n",
       "      <td>0.710621</td>\n",
       "    </tr>\n",
       "    <tr>\n",
       "      <th>네트워크</th>\n",
       "      <td>0.704649</td>\n",
       "    </tr>\n",
       "    <tr>\n",
       "      <th>수학</th>\n",
       "      <td>0.703345</td>\n",
       "    </tr>\n",
       "    <tr>\n",
       "      <th>학습</th>\n",
       "      <td>0.694562</td>\n",
       "    </tr>\n",
       "    <tr>\n",
       "      <th>지식</th>\n",
       "      <td>0.693147</td>\n",
       "    </tr>\n",
       "    <tr>\n",
       "      <th>이론</th>\n",
       "      <td>0.689770</td>\n",
       "    </tr>\n",
       "    <tr>\n",
       "      <th>마치</th>\n",
       "      <td>0.688684</td>\n",
       "    </tr>\n",
       "  </tbody>\n",
       "</table>\n",
       "</div>"
      ],
      "text/plain": [
       "                0\n",
       "딥        0.887673\n",
       "딥러닝      0.874081\n",
       "사용       0.867020\n",
       "텐서플      0.848507\n",
       "하이퍼파라미터  0.839869\n",
       "완전연결     0.814461\n",
       "아키텍처     0.811337\n",
       "텐서플로     0.787370\n",
       "신경망      0.779551\n",
       "강화학습     0.768536\n",
       "최적화      0.722531\n",
       "기초       0.717575\n",
       "합성곱      0.715096\n",
       "코드       0.710621\n",
       "네트워크     0.704649\n",
       "수학       0.703345\n",
       "학습       0.694562\n",
       "지식       0.693147\n",
       "이론       0.689770\n",
       "마치       0.688684"
      ]
     },
     "execution_count": 80,
     "metadata": {},
     "output_type": "execute_result"
    }
   ],
   "source": [
    "keu.key_extraction(han_nouns,model_new,min_rank=20)"
   ]
  }
 ],
 "metadata": {
  "kernelspec": {
   "display_name": "Python 3",
   "language": "python",
   "name": "python3"
  },
  "language_info": {
   "codemirror_mode": {
    "name": "ipython",
    "version": 3
   },
   "file_extension": ".py",
   "mimetype": "text/x-python",
   "name": "python",
   "nbconvert_exporter": "python",
   "pygments_lexer": "ipython3",
   "version": "3.9.1"
  },
  "orig_nbformat": 4,
  "vscode": {
   "interpreter": {
    "hash": "b2097164ba635ebffc0e3795dc845ae25b57eedf0c1eb5773ded6aee9fc1b279"
   }
  }
 },
 "nbformat": 4,
 "nbformat_minor": 2
}
